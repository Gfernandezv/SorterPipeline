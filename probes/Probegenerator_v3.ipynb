{
 "cells": [
  {
   "cell_type": "code",
   "execution_count": null,
   "id": "60bb2672-04d5-49af-9aa7-339e1bae64dd",
   "metadata": {},
   "outputs": [],
   "source": [
    "%matplotlib widget\n",
    "import pandas as pd\n",
    "import numpy as np\n",
    "import matplotlib.pyplot as plt\n",
    "import os\n",
    "\n",
    "from probeinterface import Probe, ProbeGroup\n",
    "from probeinterface.plotting import plot_probe_group\n",
    "from probeinterface.io import write_probeinterface\n",
    "from probeinterface import generate_tetrode\n",
    "from Tetrodes import create_and_print_probe, write_probe"
   ]
  },
  {
   "cell_type": "markdown",
   "id": "0a3cfaff-592f-4eb6-9f50-762131c3ff9d",
   "metadata": {
    "jp-MarkdownHeadingCollapsed": true
   },
   "source": [
    "Los probes se configuran como un arreglo de 4 tetrodos, donde es necesario especificar los canales asociados a cada electrodo del tetrodo y el numero del tetrodo. Esta información la tienes en tus excel, pero debes rotularla como columnas.\n",
    "\n",
    "evitar utilizar multishanks, presentarlo como single electrode y presentar una columna de grupos en el excel.\n",
    "\n",
    "Dev: canales del intan (0-63)  \n",
    "Probe: numero de tetrodo (0-15)  \n",
    "Chan: canal Matlab (1-64)  \n",
    "TTR: numero de tetrodo Matlab (1-16)  \n",
    "\n",
    "los pasos del pseudocodigo son los siguientes:  \n",
    "1. Definicion de parametros  \n",
    "2. Leer el archivo de Excel  \n",
    "3. Extraer la columna 'Dev' para usarla en set_global_device_channel_indices  \n",
    "4. Crear el ProbeGroup vacio  \n",
    "5. Generar 16 tetrodos en 4 grupos de 2x2 \n",
    "6. Asignar los índices de canales utilizando los datos de la columna 'Dev' y guardar   \n",
    "7. Convertir a DataFrame  \n",
    "8. Visualizar el grupo de tetrodos  "
   ]
  },
  {
   "cell_type": "code",
   "execution_count": null,
   "id": "4e472d85-fa24-493f-9521-de2ba2fbc0c6",
   "metadata": {
    "tags": []
   },
   "outputs": [],
   "source": [
    "# Leer el archivo de Excel\n",
    "probe_name = 'TM24'\n",
    "file_path = r'F:\\sort\\ariel\\TM24\\informacion_probe.xlsx'  # Reemplaza con la ruta a tu archivo Excel\n",
    "df_excel = pd.read_excel(file_path)\n",
    "\n",
    "# Extraer la columna 'Dev' para usarla en set_global_device_channel_indices\n",
    "device_channel_indices = df_excel['Dev'].values\n",
    "\n",
    "# Crear el ProbeGroup y los tetrodos como antes\n",
    "probegroup = ProbeGroup()\n",
    "\n",
    "# Definir las separaciones entre tetrodos y entre grupos\n",
    "tetrode_spacing = 50\n",
    "group_spacing = 1000\n",
    "\n",
    "# Generar 16 tetrodos en 4 grupos de 2x2\n",
    "for group_i in range(2):\n",
    "    for group_j in range(2):\n",
    "        base_x = group_i * group_spacing\n",
    "        base_y = group_j * group_spacing\n",
    "        \n",
    "        for i in range(2):\n",
    "            for j in range(2):\n",
    "                tetrode = generate_tetrode()\n",
    "                tetrode.move([base_x + i * tetrode_spacing, base_y + j * tetrode_spacing])\n",
    "                probegroup.add_probe(tetrode)\n",
    "\n",
    "# Asignar los índices de canales utilizando los datos de la columna 'Dev'\n",
    "probegroup.set_global_device_channel_indices(device_channel_indices)\n",
    "write_probe(probe_name, probegroup)\n",
    "\n",
    "# Convertir a DataFrame\n",
    "df = probegroup.to_dataframe()\n",
    "print(df)\n",
    "\n",
    "# Visualizar el grupo de tetrodos\n",
    "plot_probe_group(probegroup, with_contact_id=True, with_device_index=True, same_axes=True)\n",
    "plt.show()"
   ]
  },
  {
   "cell_type": "code",
   "execution_count": null,
   "id": "4c2e36ba-9b2f-41e0-957d-e85375eb7934",
   "metadata": {},
   "outputs": [],
   "source": [
    "import numpy as np\n",
    "import matplotlib.pyplot as plt\n",
    "\n",
    "from probeinterface import Probe, ProbeGroup\n",
    "from probeinterface import generate_linear_probe, generate_multi_shank\n",
    "from probeinterface import combine_probes\n",
    "from probeinterface.plotting import plot_probe"
   ]
  },
  {
   "cell_type": "code",
   "execution_count": null,
   "id": "3e733f7f-d02e-4977-b1cc-e4e28b3bb432",
   "metadata": {},
   "outputs": [],
   "source": [
    "from pathlib import Path\n",
    "\n",
    "probe_name = 'probes/Anillo'\n",
    "file_path = Path('probes/anillo_probe.xlsx')  # Reemplaza con la ruta a tu archivo Excel\n",
    "df_excel = pd.read_excel(file_path)\n",
    "device_channel_indices = df_excel['Dev'].values\n",
    "contacts_id = df_excel['info'].values\n",
    "\n",
    "multi_shank = generate_multi_shank(num_shank=4, num_columns=4, num_contact_per_column=1)\n",
    "multi_shank.set_device_channel_indices(device_channel_indices)\n",
    "multi_shank.set_contact_ids(device_channel_indices)\n",
    "\n",
    "write_probe(probe_name, multi_shank)"
   ]
  },
  {
   "cell_type": "code",
   "execution_count": null,
   "id": "becbc851-6413-4777-9880-b313a0981e3b",
   "metadata": {},
   "outputs": [],
   "source": [
    "\n",
    "plot_probe(multi_shank, with_contact_id = True,\n",
    "          with_device_index = True,\n",
    "          show_channel_on_click = True)\n"
   ]
  },
  {
   "cell_type": "code",
   "execution_count": null,
   "id": "a1603430-2d1f-4e90-b3a7-10b0747c5226",
   "metadata": {},
   "outputs": [],
   "source": [
    "import numpy as np\n",
    "import pandas as pd\n",
    "from pathlib import Path\n",
    "from probeinterface import Probe\n",
    "from Tetrodes import create_and_print_probe, write_probe\n",
    "\n",
    "# Ruta al archivo Excel\n",
    "file_path = Path(r'C:\\Users\\Labcn\\OneDrive - Universidad Católica de Chile\\sorting_anillo\\probes\\anillo_probe.xlsx')\n",
    "\n",
    "# Leer el archivo Excel\n",
    "df_excel = pd.read_excel(file_path)\n",
    "device_channel_indices = df_excel['Dev'].values\n",
    "contacts_id = df_excel['info'].values\n",
    "\n",
    "def create_16_channel_probe(device_channel_indices, contacts_id):\n",
    "    # Crear una instancia de la sonda\n",
    "    probe = Probe(ndim=2)\n",
    "    \n",
    "    # Definir los parámetros de la sonda\n",
    "    num_channels = len(device_channel_indices)\n",
    "    num_groups = 4\n",
    "    channels_per_group = num_channels // num_groups\n",
    "    vertical_spacing = 100  # 100 µm entre cada grupo de canales\n",
    "    \n",
    "    # Crear la matriz de posiciones de los contactos\n",
    "    x_positions = []\n",
    "    y_positions = []\n",
    "    \n",
    "    for group_idx in range(num_groups):\n",
    "        for ch_idx in range(channels_per_group):\n",
    "            x_positions.append(group_idx * 50)  # 50 µm de separación horizontal entre grupos\n",
    "            y_positions.append(group_idx * vertical_spacing + ch_idx * 20)  # 20 µm de separación vertical entre canales dentro de un grupo\n",
    "    \n",
    "    contact_positions = np.column_stack((x_positions, y_positions))\n",
    "    \n",
    "    # Asignar los contactos a la sonda\n",
    "    probe.set_contacts(positions=contact_positions, shapes='circle', shape_params={'radius': 10})\n",
    "    \n",
    "    # Asignar los índices de los canales y los IDs de los contactos\n",
    "    probe.set_device_channel_indices(device_channel_indices)\n",
    "    # probe.set_contact_ids(contacts_id)\n",
    "    \n",
    "    # Imprimir la información de la sonda\n",
    "    print(probe)\n",
    "    \n",
    "    return probe\n",
    "\n",
    "# Generar la sonda con los índices de canales del dispositivo y los IDs de los contactos\n",
    "probe = create_16_channel_probe(device_channel_indices, contacts_id)\n",
    "\n",
    "# Si quieres guardar el probe en un archivo, puedes usar el siguiente código:\n",
    "# from probeinterface.io import write_probeinterface\n",
    "# write_probeinterface(probe, '16_channel_probe.prb')\n",
    "\n",
    "write_probe('test', probe)"
   ]
  },
  {
   "cell_type": "markdown",
   "id": "9187f520-3ab2-4201-b1f1-20fd061628ad",
   "metadata": {},
   "source": [
    "# electrodo en version kilosort GUI"
   ]
  },
  {
   "cell_type": "code",
   "execution_count": 1,
   "id": "81956b71-7635-4fd0-961d-3fe3d6e9adb6",
   "metadata": {},
   "outputs": [
    {
     "ename": "ModuleNotFoundError",
     "evalue": "No module named 'kilosort'",
     "output_type": "error",
     "traceback": [
      "\u001b[1;31m---------------------------------------------------------------------------\u001b[0m",
      "\u001b[1;31mModuleNotFoundError\u001b[0m                       Traceback (most recent call last)",
      "Input \u001b[1;32mIn [1]\u001b[0m, in \u001b[0;36m<cell line: 1>\u001b[1;34m()\u001b[0m\n\u001b[1;32m----> 1\u001b[0m \u001b[38;5;28;01mimport\u001b[39;00m \u001b[38;5;21;01mkilosort\u001b[39;00m\n",
      "\u001b[1;31mModuleNotFoundError\u001b[0m: No module named 'kilosort'"
     ]
    }
   ],
   "source": [
    "import kilosort"
   ]
  },
  {
   "cell_type": "code",
   "execution_count": 2,
   "id": "9e025135-8285-46eb-927a-3d82b251564a",
   "metadata": {},
   "outputs": [
    {
     "name": "stdout",
     "output_type": "stream",
     "text": [
      "Requirement already satisfied: kilosort in c:\\users\\germa\\anaconda3\\envs\\spikeinterface\\lib\\site-packages (4.0.13)\n",
      "Requirement already satisfied: numpy<2.0.0,>=1.20.0 in c:\\users\\germa\\anaconda3\\envs\\spikeinterface\\lib\\site-packages (from kilosort) (1.26.4)\n",
      "Requirement already satisfied: scipy in c:\\users\\germa\\anaconda3\\envs\\spikeinterface\\lib\\site-packages (from kilosort) (1.14.0)\n",
      "Requirement already satisfied: scikit-learn in c:\\users\\germa\\anaconda3\\envs\\spikeinterface\\lib\\site-packages (from kilosort) (1.5.0)\n",
      "Requirement already satisfied: tqdm in c:\\users\\germa\\anaconda3\\envs\\spikeinterface\\lib\\site-packages (from kilosort) (4.66.4)\n",
      "Requirement already satisfied: torch>=1.6 in c:\\users\\germa\\anaconda3\\envs\\spikeinterface\\lib\\site-packages (from kilosort) (2.3.1)\n",
      "Requirement already satisfied: numba in c:\\users\\germa\\anaconda3\\envs\\spikeinterface\\lib\\site-packages (from kilosort) (0.60.0)\n",
      "Requirement already satisfied: faiss-cpu in c:\\users\\germa\\anaconda3\\envs\\spikeinterface\\lib\\site-packages (from kilosort) (1.8.0.post1)\n",
      "Requirement already satisfied: filelock in c:\\users\\germa\\anaconda3\\envs\\spikeinterface\\lib\\site-packages (from torch>=1.6->kilosort) (3.13.1)\n",
      "Requirement already satisfied: typing-extensions>=4.8.0 in c:\\users\\germa\\anaconda3\\envs\\spikeinterface\\lib\\site-packages (from torch>=1.6->kilosort) (4.11.0)\n",
      "Requirement already satisfied: sympy in c:\\users\\germa\\anaconda3\\envs\\spikeinterface\\lib\\site-packages (from torch>=1.6->kilosort) (1.12.1)\n",
      "Requirement already satisfied: networkx in c:\\users\\germa\\anaconda3\\envs\\spikeinterface\\lib\\site-packages (from torch>=1.6->kilosort) (3.2.1)\n",
      "Requirement already satisfied: jinja2 in c:\\users\\germa\\anaconda3\\envs\\spikeinterface\\lib\\site-packages (from torch>=1.6->kilosort) (3.1.4)\n",
      "Requirement already satisfied: fsspec in c:\\users\\germa\\anaconda3\\envs\\spikeinterface\\lib\\site-packages (from torch>=1.6->kilosort) (2024.6.1)\n",
      "Requirement already satisfied: mkl<=2021.4.0,>=2021.1.1 in c:\\users\\germa\\anaconda3\\envs\\spikeinterface\\lib\\site-packages (from torch>=1.6->kilosort) (2021.4.0)\n",
      "Requirement already satisfied: packaging in c:\\users\\germa\\anaconda3\\envs\\spikeinterface\\lib\\site-packages (from faiss-cpu->kilosort) (24.1)\n",
      "Requirement already satisfied: llvmlite<0.44,>=0.43.0dev0 in c:\\users\\germa\\anaconda3\\envs\\spikeinterface\\lib\\site-packages (from numba->kilosort) (0.43.0)\n",
      "Requirement already satisfied: joblib>=1.2.0 in c:\\users\\germa\\anaconda3\\envs\\spikeinterface\\lib\\site-packages (from scikit-learn->kilosort) (1.4.2)\n",
      "Requirement already satisfied: threadpoolctl>=3.1.0 in c:\\users\\germa\\anaconda3\\envs\\spikeinterface\\lib\\site-packages (from scikit-learn->kilosort) (3.5.0)\n",
      "Requirement already satisfied: colorama in c:\\users\\germa\\anaconda3\\envs\\spikeinterface\\lib\\site-packages (from tqdm->kilosort) (0.4.6)\n",
      "Requirement already satisfied: intel-openmp==2021.* in c:\\users\\germa\\anaconda3\\envs\\spikeinterface\\lib\\site-packages (from mkl<=2021.4.0,>=2021.1.1->torch>=1.6->kilosort) (2021.4.0)\n",
      "Requirement already satisfied: tbb==2021.* in c:\\users\\germa\\anaconda3\\envs\\spikeinterface\\lib\\site-packages (from mkl<=2021.4.0,>=2021.1.1->torch>=1.6->kilosort) (2021.13.0)\n",
      "Requirement already satisfied: MarkupSafe>=2.0 in c:\\users\\germa\\anaconda3\\envs\\spikeinterface\\lib\\site-packages (from jinja2->torch>=1.6->kilosort) (2.1.3)\n",
      "Requirement already satisfied: mpmath<1.4.0,>=1.1.0 in c:\\users\\germa\\anaconda3\\envs\\spikeinterface\\lib\\site-packages (from sympy->torch>=1.6->kilosort) (1.3.0)\n"
     ]
    }
   ],
   "source": [
    "!pip install kilosort"
   ]
  },
  {
   "cell_type": "code",
   "execution_count": null,
   "id": "8b7020a2-f468-4363-b583-a5ec1b6dc516",
   "metadata": {},
   "outputs": [],
   "source": [
    "import numpy as np\n",
    "import scipy.io\n",
    "\n",
    "# Generar la disposición de los canales\n",
    "n_groups = 4\n",
    "n_channels_per_group = 4\n",
    "n_total_channels = n_groups * n_channels_per_group\n",
    "\n",
    "# Separación de canales dentro de un grupo y entre grupos\n",
    "channel_spacing = 20  # Separación de 20um entre canales dentro de un grupo\n",
    "group_spacing = 50    # Separación de 50um entre grupos\n",
    "\n",
    "# Inicializar arrays para las coordenadas\n",
    "xc = []\n",
    "yc = []\n",
    "\n",
    "# Generar las coordenadas\n",
    "for group_idx in range(n_groups):\n",
    "    # La posición en y aumenta para cada grupo, separados por group_spacing\n",
    "    y_base = group_idx * group_spacing\n",
    "    for channel_idx in range(n_channels_per_group):\n",
    "        # Los canales dentro de cada grupo están alineados en x, separados por channel_spacing\n",
    "        xc.append(channel_idx * channel_spacing)\n",
    "        yc.append(y_base)\n",
    "\n",
    "# Convertir a arrays de numpy\n",
    "xc = np.array(xc)\n",
    "yc = np.array(yc)\n",
    "\n",
    "# Índices de los canales\n",
    "chanMap = np.arange(1, n_total_channels + 1)\n",
    "\n",
    "# Todos los canales pertenecen al mismo shank (puedes ajustarlo si es necesario)\n",
    "kcoords = np.zeros(n_total_channels)\n",
    "\n",
    "# Número total de canales\n",
    "n_chan = n_total_channels\n",
    "\n",
    "# Crear un diccionario con los datos de la probe\n",
    "probe_data = {\n",
    "    'chanMap': chanMap,\n",
    "    'xc': xc,\n",
    "    'yc': yc,\n",
    "    'kcoords': kcoords,\n",
    "    'n_chan': n_chan\n",
    "}\n",
    "\n",
    "from kilosort.io import save_probe\n",
    "\n",
    "save_probe(probe, 'probes/probe_kilosort.json')\n",
    "\n",
    "print(\"Archivo kilosort_probe_16ch.mat generado con éxito.\")\n"
   ]
  }
 ],
 "metadata": {
  "kernelspec": {
   "display_name": "Python 3 (ipykernel)",
   "language": "python",
   "name": "python3"
  },
  "language_info": {
   "codemirror_mode": {
    "name": "ipython",
    "version": 3
   },
   "file_extension": ".py",
   "mimetype": "text/x-python",
   "name": "python",
   "nbconvert_exporter": "python",
   "pygments_lexer": "ipython3",
   "version": "3.8.8"
  }
 },
 "nbformat": 4,
 "nbformat_minor": 5
}
